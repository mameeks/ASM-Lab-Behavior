{
 "cells": [
  {
   "cell_type": "markdown",
   "metadata": {},
   "source": [
    "# Functions in this folder\n",
    "1. `TdmsToCSV` - Required function. Converts each .tdms file into a folder containing extracted data into .csv form.\n",
    "2. `LoadData` - Required function. Converts raw .csv data into processed .csv file for each fish and saves it in folder called \"FishData\". Also in this folder saves \"Fish_number.txt\" which notes which fish number corresponds to which LOG file.\n",
    "3. `PlotTriggers` - Plots trigger occurrence for each ROI in fish and saves .jpg files in folder \"Figures\"\n",
    "4. `SaveTriggers` - Saves data for trigger duration in bins for each ROI in fish\n",
    "5. `Sparklines` - Plots Sparklines plot depicting trigger occurrence in stimulus and control ROI in fish and saves .jpg files in folder \"SparkFigures\"\n",
    "6. `ROIData` - Saves data for ROI (specified by input coordinates) in fish in a .csv file.\n",
    "7. `DistanceFromSource` - Returns data about distance of fish from source in a .csv file.\n",
    "8. `DescribeTriggers` - Returns probability density plot or histogram comparing trigger duration between control and stimulus ROIs across all fish\n",
    "\n",
    "# Experiment Duration\n",
    "Several functions in this folder are written for a 3 + 18 + 3 experiment setup. This can be adjusted in different places depending on the function.\n",
    "## PlotTriggers()\n",
    "Line 20"
   ]
  },
  {
   "cell_type": "code",
   "execution_count": null,
   "metadata": {},
   "outputs": [],
   "source": [
    "duration = 1440"
   ]
  },
  {
   "cell_type": "markdown",
   "metadata": {},
   "source": [
    "This line specifies the total duration of the experiment (in seconds), which also determines the x axis of the resulting plot. You can adjust this value depending on the duration of _your_ experiment.\n",
    "## DescribeTriggers()\n",
    "Lines 20-21"
   ]
  },
  {
   "cell_type": "code",
   "execution_count": null,
   "metadata": {},
   "outputs": [],
   "source": [
    "Tmin = 0 # in seconds\n",
    "Tmax = 1440 # in seconds"
   ]
  },
  {
   "cell_type": "markdown",
   "metadata": {},
   "source": [
    "These lines specify the start and end time for which you want to generate the graphs."
   ]
  },
  {
   "cell_type": "markdown",
   "metadata": {},
   "source": [
    "## user_scripts\n",
    "When calling the functions `SaveTriggers()`, `ROIData()`, and `DistanceFromSource()`, the functions accept input arguments for TMin and TMax. Simply enter your TMin and TMax desired values. An example of the function calls is below:"
   ]
  },
  {
   "cell_type": "code",
   "execution_count": null,
   "metadata": {},
   "outputs": [],
   "source": [
    "SaveTriggers(TMin=0, TMax=1000, Bin_Lengths=['0-1000', '1000-2000', '2000-3000', '3000-5000','5000-8000',\n",
    "                   '8000-11000', '11000-15000', '15000-20000'])\n",
    "ROIData(Coordinates = np.array([ [0,50], [0,75], [15,50], [15,75] ]), TMin = 0, TMax = 180)\n",
    "DistanceFromSource(TMin=0,TMax=180)"
   ]
  },
  {
   "cell_type": "markdown",
   "metadata": {},
   "source": [
    "# Folder Selection\n",
    "The code for folder selection is present at the top of each script."
   ]
  },
  {
   "cell_type": "code",
   "execution_count": null,
   "metadata": {},
   "outputs": [],
   "source": [
    "data_folder = raw_input(\"Input name of folder containing LoadData output: \")\n",
    "data_folder = '%s/FishData' % data_folder"
   ]
  },
  {
   "cell_type": "markdown",
   "metadata": {},
   "source": [
    "This code prompts the user to specify the full path of the folder containing their data. If you plan to run this script many times for the same data, it is possible to replace Line 27 with the name of the desired folder. This would eliminate the need for any user input. The edited code would look something like this:"
   ]
  },
  {
   "cell_type": "code",
   "execution_count": 1,
   "metadata": {},
   "outputs": [],
   "source": [
    "# data_folder = raw_input(\"Input name of folder containing LoadData output: \")\n",
    "data_folder = '/Users/malika/Documents/MATLAB/behavior/Nacre WT_7day_1per_chronic_alcohol_exp'\n",
    "data_folder = '%s/FishData' % data_folder"
   ]
  },
  {
   "cell_type": "markdown",
   "metadata": {},
   "source": [
    "* I recommend commenting out the `raw_input()` code instead of deleting it so that you can switch back to it when you want to.\n",
    "\n",
    "# Filename selection\n",
    "At the bottom of several scripts (`SaveTriggers`, `ROIData`, `DistanceFromSource`) is a line that prompts the user to input a filename. This is because you will run these functions multiple times for the same data, to get outputs for different time periods or different ROIs. \n",
    "If you do not want to be prompted to input a file name, go to the bottom of the script and find this line:"
   ]
  },
  {
   "cell_type": "code",
   "execution_count": null,
   "metadata": {},
   "outputs": [],
   "source": [
    "filename = raw_input('Enter file name for saving: ')"
   ]
  },
  {
   "cell_type": "markdown",
   "metadata": {},
   "source": [
    "You can replace it with the filename of your choice as follows:"
   ]
  },
  {
   "cell_type": "code",
   "execution_count": null,
   "metadata": {},
   "outputs": [],
   "source": [
    "# filename = raw_input('Enter file name for saving: ')\n",
    "filename = 'my_file'"
   ]
  }
 ],
 "metadata": {
  "kernelspec": {
   "display_name": "Python 2",
   "language": "python",
   "name": "python2"
  },
  "language_info": {
   "codemirror_mode": {
    "name": "ipython",
    "version": 2
   },
   "file_extension": ".py",
   "mimetype": "text/x-python",
   "name": "python",
   "nbconvert_exporter": "python",
   "pygments_lexer": "ipython2",
   "version": "2.7.15"
  }
 },
 "nbformat": 4,
 "nbformat_minor": 2
}
