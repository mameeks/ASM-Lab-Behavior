{
 "cells": [
  {
   "cell_type": "markdown",
   "metadata": {},
   "source": [
    "## Functions in this folder\n",
    "1. `TdmsToCSV` - Required function. Converts each .tdms file into a folder containing extracted data into .csv form.\n",
    "2. `LoadData` - Required function. Converts raw .csv data into processed .csv file for each fish and saves it in folder called \"FishData\". Also in this folder saves \"Fish_number.txt\" which notes which fish number corresponds to which LOG file.\n",
    "3. `PlotTriggers` - Plots trigger occurrence for each ROI in fish and saves .jpg files in folder \"Figures\"\n",
    "4. `SaveTriggers` - Saves data for trigger duration in bins for each ROI in fish\n",
    "5. `Sparklines` - Plots Sparklines plot depicting trigger occurrence in stimulus and control ROI in fish and saves .jpg files in folder \"SparkFigures\"\n",
    "6. `ROIData` - Saves data for ROI (specified by input coordinates) in fish in a .csv file.\n",
    "7. `DistanceFromSource` - Returns data about distance of fish from source in a .csv file.\n",
    "8. `DescribeTriggers` - Returns probability density plot and histogram comparing trigger duration between control and stimulus ROIs across all fish"
   ]
  },
  {
   "cell_type": "markdown",
   "metadata": {},
   "source": [
    "## Folder Selection\n",
    "The code for folder selection is present at the top of each script."
   ]
  },
  {
   "cell_type": "code",
   "execution_count": null,
   "metadata": {},
   "outputs": [],
   "source": [
    "data_folder = raw_input(\"Input name of folder containing LoadData output: \")\n",
    "data_folder = '/Users/malika/Documents/MATLAB/behavior/%s/FishData' % data_folder"
   ]
  },
  {
   "cell_type": "markdown",
   "metadata": {},
   "source": [
    "This code prompts the user to specify the name of the folder containing their data. If you plan to run this script many times for the same data, it is possible to replace Line 27 with the name of the desired folder. This would eliminate the need for any user input. The edited code would look something like this:"
   ]
  },
  {
   "cell_type": "code",
   "execution_count": null,
   "metadata": {},
   "outputs": [],
   "source": [
    "# data_folder = raw_input(\"Input name of folder containing LoadData output: \")\n",
    "data_folder = 'Nacre WT_7day_1per_chronic_alcohol_exp'\n",
    "data_folder = '/Users/malika/Documents/MATLAB/behavior/%s/FishData' % data_folder"
   ]
  },
  {
   "cell_type": "markdown",
   "metadata": {},
   "source": [
    "* I recommend commenting out the `raw_input()` code instead of deleting it so that you can switch back to it when you want to.\n",
    "\n",
    "## Filename selection\n",
    "At the bottom of several scripts (`SaveTriggers`, `ROIData`, `DistanceFromSource`) is a line that prompts the user to input a filename. This is because you will run these functions multiple times for the same data, to get outputs for different time periods or different ROIs. \n",
    "If you do not want to be prompted to input a file name, go to the bottom of the script and find this line:"
   ]
  },
  {
   "cell_type": "code",
   "execution_count": null,
   "metadata": {},
   "outputs": [],
   "source": [
    "filename = raw_input('Enter file name for saving: ')"
   ]
  },
  {
   "cell_type": "markdown",
   "metadata": {},
   "source": [
    "You can replace it with the filename of your choice as follows:"
   ]
  },
  {
   "cell_type": "code",
   "execution_count": null,
   "metadata": {},
   "outputs": [],
   "source": [
    "# filename = raw_input('Enter file name for saving: ')\n",
    "filename = 'my_file'"
   ]
  }
 ],
 "metadata": {
  "kernelspec": {
   "display_name": "Python 2",
   "language": "python",
   "name": "python2"
  },
  "language_info": {
   "codemirror_mode": {
    "name": "ipython",
    "version": 2
   },
   "file_extension": ".py",
   "mimetype": "text/x-python",
   "name": "python",
   "nbconvert_exporter": "python",
   "pygments_lexer": "ipython2",
   "version": "2.7.15"
  }
 },
 "nbformat": 4,
 "nbformat_minor": 2
}
