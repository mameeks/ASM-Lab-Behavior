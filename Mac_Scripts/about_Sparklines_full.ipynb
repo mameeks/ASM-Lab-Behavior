{
 "cells": [
  {
   "cell_type": "markdown",
   "metadata": {},
   "source": [
    "# Sparklines_full()\n",
    "Plots sparklines plot for time period before, during, and after the stimulus period of the experiment. Saves figures to folder \"SparkFigures_Full\".\n",
    "\n",
    "## Lines 11-13"
   ]
  },
  {
   "cell_type": "code",
   "execution_count": null,
   "metadata": {},
   "outputs": [],
   "source": [
    "duration = 1440 # total experiment duration (s)\n",
    "pre = 180 # pre-stimulus duration (s)\n",
    "post = 180 # post-stimulus duration (s)"
   ]
  },
  {
   "cell_type": "markdown",
   "metadata": {},
   "source": [
    "* `duration`: total experiment duration in seconds (pre-stimulus, stimulus, and post-stimulus period)\n",
    "* `pre`: duration of pre-stimulus period in seconds\n",
    "* `post`: duration of post-stimulus period in seconds\n",
    "\n",
    "You can edit these lines to ensure that the function matches the duration of your experiment."
   ]
  }
 ],
 "metadata": {
  "kernelspec": {
   "display_name": "Python 2",
   "language": "python",
   "name": "python2"
  },
  "language_info": {
   "codemirror_mode": {
    "name": "ipython",
    "version": 2
   },
   "file_extension": ".py",
   "mimetype": "text/x-python",
   "name": "python",
   "nbconvert_exporter": "python",
   "pygments_lexer": "ipython2",
   "version": "2.7.15"
  }
 },
 "nbformat": 4,
 "nbformat_minor": 2
}
