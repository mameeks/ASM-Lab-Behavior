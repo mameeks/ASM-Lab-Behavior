{
 "cells": [
  {
   "cell_type": "code",
   "execution_count": 11,
   "metadata": {},
   "outputs": [],
   "source": [
    "import numpy as np\n",
    "%run TdmsToCSV.py\n",
    "%run LoadData.py\n",
    "%run PlotTriggers.py\n",
    "%run SaveTriggers.py\n",
    "%run ROIData.py\n",
    "%run DistanceFromSource.py\n",
    "%run DescribeTriggers.py\n",
    "%run Sparklines.py"
   ]
  },
  {
   "cell_type": "code",
   "execution_count": 5,
   "metadata": {},
   "outputs": [
    {
     "name": "stdout",
     "output_type": "stream",
     "text": [
      "Input name of folder containing .tdms files: folder\n",
      "LOG_2018-06-11_07-48-58\n",
      "LOG_2018-06-11_08-15-55\n",
      "LOG_2018-06-11_08-43-11\n",
      "LOG_2018-06-11_11-37-13\n",
      "LOG_2018-06-11_12-23-18\n",
      "LOG_2018-06-11_12-58-11\n",
      "LOG_2018-06-11_13-40-31\n"
     ]
    }
   ],
   "source": [
    "TdmsToCSV()"
   ]
  },
  {
   "cell_type": "code",
   "execution_count": null,
   "metadata": {},
   "outputs": [],
   "source": [
    "LoadData()"
   ]
  },
  {
   "cell_type": "code",
   "execution_count": null,
   "metadata": {},
   "outputs": [],
   "source": [
    "PlotTriggers()"
   ]
  },
  {
   "cell_type": "code",
   "execution_count": 12,
   "metadata": {},
   "outputs": [
    {
     "name": "stdout",
     "output_type": "stream",
     "text": [
      "Input name of folder containing LoadData output: folder\n",
      "Fish..1\n",
      "Fish..2\n",
      "Fish..3\n",
      "Fish..4\n",
      "Fish..5\n",
      "Fish..6\n",
      "Fish..7\n",
      "Fish..8\n",
      "Fish..9\n",
      "Fish..10\n",
      "Fish..11\n",
      "Fish..12\n",
      "Fish..13\n",
      "Fish..14\n",
      "Enter file name for saving: poop\n"
     ]
    }
   ],
   "source": [
    "SaveTriggers(TMin=0, TMax=1000, Bin_Lengths=['0-1000', '1000-2000', '2000-3000', '3000-5000','5000-8000',\n",
    "                   '8000-11000', '11000-15000', '15000-20000'])"
   ]
  },
  {
   "cell_type": "code",
   "execution_count": 8,
   "metadata": {},
   "outputs": [
    {
     "name": "stdout",
     "output_type": "stream",
     "text": [
      "Input name of folder containing LoadData output: folder\n",
      "Fish..1\n",
      "Fish..2\n",
      "Fish..3\n",
      "Fish..4\n",
      "Fish..5\n",
      "Fish..6\n",
      "Fish..7\n",
      "Fish..8\n",
      "Fish..9\n",
      "Fish..10\n",
      "Fish..11\n",
      "Fish..12\n",
      "Fish..13\n",
      "Fish..14\n"
     ]
    },
    {
     "data": {
      "text/plain": [
       "<Figure size 640x480 with 1 Axes>"
      ]
     },
     "metadata": {},
     "output_type": "display_data"
    },
    {
     "data": {
      "text/plain": [
       "<Figure size 640x480 with 1 Axes>"
      ]
     },
     "metadata": {},
     "output_type": "display_data"
    }
   ],
   "source": [
    "DescribeTriggers()"
   ]
  },
  {
   "cell_type": "code",
   "execution_count": null,
   "metadata": {},
   "outputs": [],
   "source": [
    "# Pre-stimulus period:\n",
    "ROIData(Coordinates = np.array([ [0,50], [0,75], [15,50], [15,75] ]), TMin = 0, TMax = 180)\n",
    "ROIData(Coordinates = np.array([ [15,50], [15,75], [30,50], [30,75] ]), TMin = 0, TMax = 180)\n",
    "# Stimulus period:\n",
    "ROIData(Coordinates = np.array([ [0,50], [0,75], [15,50], [15,75] ]), TMin = 180, TMax = 1260)\n",
    "ROIData(Coordinates = np.array([ [15,50], [15,75], [30,50], [30,75] ]), TMin = 180, TMax = 1260)\n",
    "# Post-stimulus period:\n",
    "ROIData(Coordinates = np.array([ [0,50], [0,75], [15,50], [15,75] ]), TMin = 1260, TMax = 1440)\n",
    "ROIData(Coordinates = np.array([ [15,50], [15,75], [30,50], [30,75] ]), TMin = 1260, TMax = 1440)"
   ]
  },
  {
   "cell_type": "code",
   "execution_count": null,
   "metadata": {},
   "outputs": [],
   "source": [
    "DistanceFromSource(TMin=0,TMax=180)"
   ]
  },
  {
   "cell_type": "code",
   "execution_count": null,
   "metadata": {},
   "outputs": [],
   "source": [
    "Sparklines()"
   ]
  }
 ],
 "metadata": {
  "kernelspec": {
   "display_name": "Python 2",
   "language": "python",
   "name": "python2"
  },
  "language_info": {
   "codemirror_mode": {
    "name": "ipython",
    "version": 2
   },
   "file_extension": ".py",
   "mimetype": "text/x-python",
   "name": "python",
   "nbconvert_exporter": "python",
   "pygments_lexer": "ipython2",
   "version": "2.7.15"
  }
 },
 "nbformat": 4,
 "nbformat_minor": 2
}
