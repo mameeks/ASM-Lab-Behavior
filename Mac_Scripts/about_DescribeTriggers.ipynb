{
 "cells": [
  {
   "cell_type": "markdown",
   "metadata": {},
   "source": [
    "# DescribeTriggers()\n",
    "Generates basic descriptive statistics and visualizations comparing duration of triggers under the control and stimulus condition across all fish. \n",
    "It generates three outputs:\n",
    "1. \"Descriptive.csv\" - .csv file containing descriptive information about the above data (mean, median, quartiles, etc.).\n",
    "2. \"Trigger_Histogram.jpg\" - histogram describing above data\n",
    "3. \"Trigger_Curve.jpg\" - probability density curve describing above data"
   ]
  }
 ],
 "metadata": {
  "kernelspec": {
   "display_name": "Python 2",
   "language": "python",
   "name": "python2"
  },
  "language_info": {
   "codemirror_mode": {
    "name": "ipython",
    "version": 2
   },
   "file_extension": ".py",
   "mimetype": "text/x-python",
   "name": "python",
   "nbconvert_exporter": "python",
   "pygments_lexer": "ipython2",
   "version": "2.7.15"
  }
 },
 "nbformat": 4,
 "nbformat_minor": 2
}
