{
 "cells": [
  {
   "cell_type": "markdown",
   "metadata": {},
   "source": [
    "# Folder Selection\n",
    "There are two different options for folder selection at the top of each script. Both are acceptable (for Windows users) but make sure that one of them is commented out (using the `#` symbol or the `Ctrl`+`/` shortcut) before running the script.\n",
    "\n",
    "## Option 1"
   ]
  },
  {
   "cell_type": "code",
   "execution_count": null,
   "metadata": {},
   "outputs": [],
   "source": [
    "root = Tkinter.Tk()\n",
    "root.withdraw()\n",
    "data_folder = tkFileDialog.askdirectory(parent=root,initialdir=\"/\",title='Please select folder containing fish data:')\n",
    "data_folder = '%s/FishData' % data_folder"
   ]
  },
  {
   "cell_type": "markdown",
   "metadata": {},
   "source": [
    "This code creates a folder selection interface for Windows users that allows them to choose which data to analyze. This code produces errors for Mac users.\n",
    "\n",
    "## Option 2"
   ]
  },
  {
   "cell_type": "code",
   "execution_count": null,
   "metadata": {},
   "outputs": [],
   "source": [
    "data_folder = raw_input(\"Input name of folder containing LoadData output: \")\n",
    "data_folder = '/Users/malika/Documents/MATLAB/behavior/%s/FishData' % data_folder"
   ]
  },
  {
   "cell_type": "markdown",
   "metadata": {},
   "source": [
    "This code prompts the user to specify the name of the folder containing their data. If you plan to run this script many times for the same data, it is possible to replace Line 27 with the name of the desired folder. This would eliminate the need for any user input. The edited code would look something like this:"
   ]
  },
  {
   "cell_type": "code",
   "execution_count": null,
   "metadata": {},
   "outputs": [],
   "source": [
    "# data_folder = raw_input(\"Input name of folder containing LoadData output: \")\n",
    "data_folder = 'Nacre WT_7day_1per_chronic_alcohol_exp'\n",
    "data_folder = '/Users/malika/Documents/MATLAB/behavior/%s/FishData' % data_folder"
   ]
  },
  {
   "cell_type": "markdown",
   "metadata": {},
   "source": [
    "* I recommend commenting out the `raw_input()` code instead of deleting it so that you can switch back to it when you want to.\n",
    "\n",
    "# Filename selection\n",
    "At the bottom of several scripts (`SaveTriggers`, `ROIData`, `DistanceFromSource`) is a line that prompts the user to input a filename. This is because you will run these functions multiple times for the same data, to get outputs for different time periods or different ROIs. \n",
    "If you do not want to be prompted to input a file name, go to the bottom of the script and find this line:"
   ]
  },
  {
   "cell_type": "code",
   "execution_count": null,
   "metadata": {},
   "outputs": [],
   "source": [
    "filename = raw_input('Enter file name for saving: ')"
   ]
  },
  {
   "cell_type": "markdown",
   "metadata": {},
   "source": [
    "You can replace it with the filename of your choice as follows:"
   ]
  },
  {
   "cell_type": "code",
   "execution_count": null,
   "metadata": {},
   "outputs": [],
   "source": [
    "# filename = raw_input('Enter file name for saving: ')\n",
    "filename = 'my_file'"
   ]
  }
 ],
 "metadata": {
  "kernelspec": {
   "display_name": "Python 2",
   "language": "python",
   "name": "python2"
  },
  "language_info": {
   "codemirror_mode": {
    "name": "ipython",
    "version": 2
   },
   "file_extension": ".py",
   "mimetype": "text/x-python",
   "name": "python",
   "nbconvert_exporter": "python",
   "pygments_lexer": "ipython2",
   "version": "2.7.15"
  }
 },
 "nbformat": 4,
 "nbformat_minor": 2
}
