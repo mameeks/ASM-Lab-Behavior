{
 "cells": [
  {
   "cell_type": "markdown",
   "metadata": {},
   "source": [
    "# ROIData()\n",
    "Saves .csv file containing information for a specified ROI for each fish.\n",
    "\n",
    "ROIData accepts three input variables:\n",
    "    1. __TMin__ - start time for which data is collected (seconds)\n",
    "    2. __TMax__ - end time for which data is collected (seconds)\n",
    "    3. __Coordinates__ - numpy array of coordinates specifying the region of interest. A numpy array is a data type that allows you to store multi-dimensional data that comes from the `numpy` package. Because of this, you need to import the `numpy` package before creating this array.\n",
    "\n",
    "* The script `user_scripts.py` contains sample scripts to collect data for ROI3 and 4/ROI5 and 6 for the pre-stimulus, stimulus, and post-stimulus periods. Simply comment out (using a `#`) all the scripts you _don't_ want to execute and then run the script. \n",
    "* Whenever you are running `ROIData` from a separate script, it is important to first import this function into the script using the line `from ROIData import ROIData`."
   ]
  }
 ],
 "metadata": {
  "kernelspec": {
   "display_name": "Python 2",
   "language": "python",
   "name": "python2"
  },
  "language_info": {
   "codemirror_mode": {
    "name": "ipython",
    "version": 2
   },
   "file_extension": ".py",
   "mimetype": "text/x-python",
   "name": "python",
   "nbconvert_exporter": "python",
   "pygments_lexer": "ipython2",
   "version": "2.7.15"
  }
 },
 "nbformat": 4,
 "nbformat_minor": 2
}
