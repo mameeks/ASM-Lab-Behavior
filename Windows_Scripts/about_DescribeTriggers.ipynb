{
 "cells": [
  {
   "cell_type": "markdown",
   "metadata": {},
   "source": [
    "# DescribeTriggers()\n",
    "What it does.\n",
    "\n",
    "## Lines 105-107\n",
    "Lines to generate a histogram."
   ]
  },
  {
   "cell_type": "code",
   "execution_count": null,
   "metadata": {},
   "outputs": [],
   "source": [
    "# histogram\n",
    "plt.hist(ctrlcount, bins='auto', alpha=0.5, label='control')\n",
    "plt.hist(stimcount, bins='auto', alpha=0.5, label='stimulus')"
   ]
  },
  {
   "cell_type": "markdown",
   "metadata": {},
   "source": [
    "## Lines 109-116\n",
    "Lines to generate a probability curve"
   ]
  },
  {
   "cell_type": "code",
   "execution_count": null,
   "metadata": {},
   "outputs": [],
   "source": [
    "# probability density curve\n",
    "kde1 = gaussian_kde(ctrlcount)\n",
    "dist_space1 = linspace(min(ctrlcount), max(ctrlcount), 200)\n",
    "line1, = plt.plot(dist_space1, kde1(dist_space1))\n",
    "kde2 = gaussian_kde(stimcount)\n",
    "dist_space2 = linspace(min(stimcount), max(stimcount), 200)\n",
    "line2, = plt.plot(dist_space2, kde2(dist_space2))\n",
    "plt.legend((line1, line2), ('control', 'stimulus'))"
   ]
  }
 ],
 "metadata": {
  "kernelspec": {
   "display_name": "Python 2",
   "language": "python",
   "name": "python2"
  },
  "language_info": {
   "codemirror_mode": {
    "name": "ipython",
    "version": 2
   },
   "file_extension": ".py",
   "mimetype": "text/x-python",
   "name": "python",
   "nbconvert_exporter": "python",
   "pygments_lexer": "ipython2",
   "version": "2.7.15"
  }
 },
 "nbformat": 4,
 "nbformat_minor": 2
}
