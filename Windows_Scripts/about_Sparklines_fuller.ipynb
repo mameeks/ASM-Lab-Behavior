{
 "cells": [
  {
   "cell_type": "markdown",
   "metadata": {},
   "source": [
    "# Sparklines_fuller()\n",
    "Plots sparklines plot for time period before, during, and after the stimulus period of the experiment. Fills all lines for triggers lasting longer than a minimum duration in a different color. Saves figures to folder \"SparkFigures_Full\".\n",
    "\n",
    "## Lines 11-15"
   ]
  },
  {
   "cell_type": "code",
   "execution_count": null,
   "metadata": {},
   "outputs": [],
   "source": [
    "duration = 1440 # total experiment duration (s)\n",
    "pre = 180 # pre-stimulus duration (s)\n",
    "post = 180 # post-stimulus duration (s)\n",
    "cutoff = 1.5 # minimum cutoff for gray color (s)\n",
    "line_color = \"gray\" # color for lines exceeding cutoff"
   ]
  },
  {
   "cell_type": "markdown",
   "metadata": {},
   "source": [
    "* `duration`: total experiment duration in seconds (pre-stimulus, stimulus, and post-stimulus period)\n",
    "* `pre`: duration of pre-stimulus period in seconds\n",
    "* `post`: duration of post-stimulus period in seconds\n",
    "* `cutoff`: minimum duration for lines to be displayed in a different color\n",
    "* `line_color`: string specifying the color for lines whose duration exceeds the cutoff. To adjust the color, I recommend using the X11 colors names featured in the table [here](https://matplotlib.org/users/colors.html) - just make sure they are formatted as a ```\"string\"``` (in quotation marks). If you want to customize the color further, the same link describes other methods of specifying colors.\n",
    "\n",
    "You can edit these lines to ensure that the function matches the duration of your experiment."
   ]
  }
 ],
 "metadata": {
  "kernelspec": {
   "display_name": "Python 2",
   "language": "python",
   "name": "python2"
  },
  "language_info": {
   "codemirror_mode": {
    "name": "ipython",
    "version": 2
   },
   "file_extension": ".py",
   "mimetype": "text/x-python",
   "name": "python",
   "nbconvert_exporter": "python",
   "pygments_lexer": "ipython2",
   "version": "2.7.15"
  }
 },
 "nbformat": 4,
 "nbformat_minor": 2
}
