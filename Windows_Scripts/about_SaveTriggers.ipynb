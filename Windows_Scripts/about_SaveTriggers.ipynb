{
 "cells": [
  {
   "cell_type": "markdown",
   "metadata": {},
   "source": [
    "# SaveTriggers()\n",
    "Saves .csv file containing trigger duration for ROI for each fish.\n",
    "\n",
    "## Specifying time range and bins\n",
    "`SaveTriggers()` accepts three input arguments: \n",
    "1. `Tmin`\n",
    "2. `Tmax`\n",
    "3. `Bin_Lengths`\n",
    "An example of the function call would be:"
   ]
  },
  {
   "cell_type": "code",
   "execution_count": null,
   "metadata": {},
   "outputs": [],
   "source": [
    "SaveTriggers(Tmin=0, Tmax=1000, Bin_Lengths = ['0-1000', '1000-2000', '2000-3000', '3000-5000','5000-8000',\n",
    "                   '8000-11000', '11000-15000', '15000-20000'])"
   ]
  },
  {
   "cell_type": "markdown",
   "metadata": {},
   "source": [
    "* The variables `Tmin` and `Tmax` determine (in seconds) the start and end points of the duration for which triggers are being counted.\n",
    "* The variable `Bin_Lengths` determines (in miliseconds) the time bins into which trigger durations are sorted. To organize trigger durations differently, edit the values in `Bin_Lengths` as desired. Make sure that each element in the list is stored as a __string__ (i.e. in quotation marks). `Bin_Lengths` can be as long as you want, but you must specify at least one bin.\n",
    "    * By default, this script adds an additional bin to `Bin_Lengths` of the form `'> than X'` where `X` is the last bin in `Bin_Lengths` (see Line 75 in the code). For example, for the example above, the scipt will add an additional bin `'> than 20000'` to capture triggers whose duration exceeded 20,000 ms.\n",
    "* Note that `Tmin` and `Tmax` are in _seconds_ whereas `Bin_Lengths` is in _miliseconds_. There are 1000 miliseconds in one second."
   ]
  }
 ],
 "metadata": {
  "kernelspec": {
   "display_name": "Python 2",
   "language": "python",
   "name": "python2"
  },
  "language_info": {
   "codemirror_mode": {
    "name": "ipython",
    "version": 2
   },
   "file_extension": ".py",
   "mimetype": "text/x-python",
   "name": "python",
   "nbconvert_exporter": "python",
   "pygments_lexer": "ipython2",
   "version": "2.7.15"
  }
 },
 "nbformat": 4,
 "nbformat_minor": 2
}
