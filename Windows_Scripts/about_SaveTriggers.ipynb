{
 "cells": [
  {
   "cell_type": "markdown",
   "metadata": {},
   "source": [
    "# SaveTriggers()\n",
    "Saves .csv file containing trigger duration for ROI for each fish.\n",
    "\n",
    "## Specifying time range and bins\n",
    "### Lines 17-21"
   ]
  },
  {
   "cell_type": "code",
   "execution_count": null,
   "metadata": {},
   "outputs": [],
   "source": [
    "# Set Tmin, Tmax, and Bins:\n",
    "Tmin = 10 # in seconds\n",
    "Tmax = 1000 # in seconds\n",
    "Bin_Lengths = ['0-1000', '1000-2000', '2000-3000', '3000-5000','5000-8000',\n",
    "               '8000-11000', '11000-15000', '15000-20000'] # in miliseconds"
   ]
  },
  {
   "cell_type": "markdown",
   "metadata": {},
   "source": [
    "* The variables `Tmin` and `Tmax` determine the start and end points of the duration for which triggers are being counted. To save triggers for a different time interval, adjust these values as desired.\n",
    "* The variable `Bin_Lengths` determines the time bins into which trigger durations are sorted. To organize trigger durations differently, edit the values in `Bin_Lengths` as desired. Make sure that each element in the list is stored as a __string__ (i.e. in quotation marks). `Bin_Lengths` can be as long as you want, but you must specify at least one bin.\n",
    "    * By default, this script adds an additional bin to `Bin_Lengths` of the form `'> than X'` where `X` is the last bin in `Bin_Lengths` (see Line 75). For example, for the code above, the scipt will add an additional bin `'> than 20000'` to capture triggers whose duration exceeded 20,000 ms.\n",
    "* Note that `Tmin` and `Tmax` are in _seconds_ whereas `Bin_Lengths` is in _miliseconds_. There are 1000 miliseconds in one second.\n",
    "\n",
    "## Folder selection\n",
    "There are two different options for folder selection in this script. Both are acceptable (for Windows users) but make sure that one of them is commented out (using the `#` symbol) before running the script.\n",
    "\n",
    "### Lines 23-26"
   ]
  },
  {
   "cell_type": "code",
   "execution_count": null,
   "metadata": {},
   "outputs": [],
   "source": [
    "root = Tkinter.Tk()\n",
    "root.withdraw()\n",
    "data_folder = tkFileDialog.askdirectory(parent=root,initialdir=\"/\",title='Please select folder containing fish data:')\n",
    "data_folder = '%s/FishData' % data_folder"
   ]
  },
  {
   "cell_type": "markdown",
   "metadata": {},
   "source": [
    "This code creates a folder selection interface for Windows users that allows them to choose which data to analyze. This code produces errors for Mac users.\n",
    "\n",
    "### Lines 27-28"
   ]
  },
  {
   "cell_type": "code",
   "execution_count": null,
   "metadata": {},
   "outputs": [],
   "source": [
    "data_folder = raw_input(\"Input name of folder containing LoadData output: \")\n",
    "data_folder = '/Users/malika/Documents/MATLAB/behavior/%s/FishData' % data_folder"
   ]
  },
  {
   "cell_type": "markdown",
   "metadata": {},
   "source": [
    "This code prompts the user to specify the name of the folder containing their data. If you plan to run this script many times for the same data, it is possible to replace Line 27 with the name of the desired folder. This would eliminate the need for any user input. The edited code would look something like this:"
   ]
  },
  {
   "cell_type": "code",
   "execution_count": null,
   "metadata": {},
   "outputs": [],
   "source": [
    "# data_folder = raw_input(\"Input name of folder containing LoadData output: \")\n",
    "data_folder = 'Nacre WT_7day_1per_chronic_alcohol_exp'\n",
    "data_folder = '/Users/malika/Documents/MATLAB/behavior/%s/FishData' % data_folder"
   ]
  },
  {
   "cell_type": "markdown",
   "metadata": {},
   "source": [
    "* I recommend commenting out the `raw_input` code instead of deleting it so that you can switch back to it when you want to."
   ]
  }
 ],
 "metadata": {
  "kernelspec": {
   "display_name": "Python 2",
   "language": "python",
   "name": "python2"
  },
  "language_info": {
   "codemirror_mode": {
    "name": "ipython",
    "version": 2
   },
   "file_extension": ".py",
   "mimetype": "text/x-python",
   "name": "python",
   "nbconvert_exporter": "python",
   "pygments_lexer": "ipython2",
   "version": "2.7.15"
  }
 },
 "nbformat": 4,
 "nbformat_minor": 2
}
